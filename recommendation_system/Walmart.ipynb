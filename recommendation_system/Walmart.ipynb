{
  "nbformat": 4,
  "nbformat_minor": 0,
  "metadata": {
    "colab": {
      "provenance": []
    },
    "kernelspec": {
      "name": "python3",
      "display_name": "Python 3"
    },
    "language_info": {
      "name": "python"
    }
  },
  "cells": [
    {
      "cell_type": "code",
      "source": [
        "# 📦 Install required packages\n",
        "!pip install numpy==1.26.4 scikit-surprise --quiet\n",
        "\n",
        "# ✅ Imports\n",
        "import pandas as pd\n",
        "import json\n",
        "from surprise import Dataset, Reader, SVD\n",
        "from surprise.model_selection import train_test_split\n",
        "import joblib\n",
        "\n",
        "# ✅ Step 1: Load and prepare data\n",
        "df = pd.read_csv('Walmart_customer_purchases.csv')  # Replace with your actual path\n",
        "\n",
        "# Use only relevant columns and drop missing ratings\n",
        "df = df[['Customer_ID', 'Product_Name', 'Rating']].dropna()\n",
        "df['Customer_ID'] = df['Customer_ID'].astype(str)\n",
        "df['Product_Name'] = df['Product_Name'].astype(str)\n",
        "\n",
        "# ✅ Step 2: Create Surprise dataset\n",
        "reader = Reader(rating_scale=(1, 5))  # or adjust if your ratings vary\n",
        "data = Dataset.load_from_df(df[['Customer_ID', 'Product_Name', 'Rating']], reader)\n",
        "\n",
        "trainset, testset = train_test_split(data, test_size=0.2, random_state=42)\n",
        "\n",
        "# ✅ Step 3: Train model\n",
        "model = SVD()\n",
        "model.fit(trainset)\n",
        "\n",
        "# ✅ Step 4: Get sample customers and products\n",
        "sample_customers = df['Customer_ID'].unique()[:100]\n",
        "sample_products = df['Product_Name'].unique()[:1000]\n",
        "\n",
        "# ✅ Step 5: Cache known products for each user\n",
        "user_seen = df.groupby('Customer_ID')['Product_Name'].apply(set).to_dict()\n",
        "\n",
        "# ✅ Step 6: Recommend top 5 products for each customer\n",
        "recommendation_dict = {}\n",
        "\n",
        "for customer in sample_customers:\n",
        "    seen = user_seen.get(customer, set())\n",
        "    unseen = [p for p in sample_products if p not in seen]\n",
        "\n",
        "    predictions = [model.predict(customer, p) for p in unseen]\n",
        "    top_preds = sorted(predictions, key=lambda x: x.est, reverse=True)[:5]\n",
        "\n",
        "    recommendation_dict[customer] = [pred.iid for pred in top_preds]\n",
        "\n",
        "# ✅ Step 7: Save to JSON for Flutter app\n",
        "with open('recommendations.json', 'w') as f:\n",
        "    json.dump(recommendation_dict, f, indent=4)\n",
        "\n",
        "print(\"✅ Top 5 product recommendations saved to 'recommendations.json'\")\n"
      ],
      "metadata": {
        "id": "SB9UFKyaBQPG",
        "outputId": "2c6c8c8a-73fd-483d-8d3e-f5539d4e81a2",
        "colab": {
          "base_uri": "https://localhost:8080/"
        }
      },
      "execution_count": 2,
      "outputs": [
        {
          "output_type": "stream",
          "name": "stdout",
          "text": [
            "✅ Top 5 product recommendations saved to 'recommendations.json'\n"
          ]
        }
      ]
    },
    {
      "cell_type": "code",
      "source": [
        "#  export this model for testing\n",
        "\n",
        "joblib.dump(model, 'svd_model.pkl')\n",
        "print(\"✅ Trained SVD model saved as 'svd_model.pkl'\")\n"
      ],
      "metadata": {
        "id": "eKNfHe2dCB2u",
        "outputId": "85b912ff-417d-43a3-e4cf-27263ff20742",
        "colab": {
          "base_uri": "https://localhost:8080/"
        }
      },
      "execution_count": 3,
      "outputs": [
        {
          "output_type": "stream",
          "name": "stdout",
          "text": [
            "✅ Trained SVD model saved as 'svd_model.pkl'\n"
          ]
        }
      ]
    }
  ]
}